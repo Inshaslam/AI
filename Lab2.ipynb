{
  "nbformat": 4,
  "nbformat_minor": 0,
  "metadata": {
    "colab": {
      "provenance": [],
      "authorship_tag": "ABX9TyM5ZFqR646h0tIvxunNOSGI",
      "include_colab_link": true
    },
    "kernelspec": {
      "name": "python3",
      "display_name": "Python 3"
    },
    "language_info": {
      "name": "python"
    }
  },
  "cells": [
    {
      "cell_type": "markdown",
      "metadata": {
        "id": "view-in-github",
        "colab_type": "text"
      },
      "source": [
        "<a href=\"https://colab.research.google.com/github/Inshaslam/AI/blob/main/Lab2.ipynb\" target=\"_parent\"><img src=\"https://colab.research.google.com/assets/colab-badge.svg\" alt=\"Open In Colab\"/></a>"
      ]
    },
    {
      "cell_type": "code",
      "execution_count": 1,
      "metadata": {
        "colab": {
          "base_uri": "https://localhost:8080/"
        },
        "id": "CSo6_bD0IbGh",
        "outputId": "6f7678e6-43e3-48d8-b6e7-112b31a03c4f"
      },
      "outputs": [
        {
          "output_type": "stream",
          "name": "stdout",
          "text": [
            "Blank List\n",
            "[]\n",
            "list of numbers \n",
            "[40, 50, 60]\n"
          ]
        }
      ],
      "source": [
        "list=[]\n",
        "print(\"Blank List\")\n",
        "print(list)\n",
        "#Creating a list of numbers\n",
        "list=[40,50,60]\n",
        "print(\"list of numbers \")\n",
        "print (list)"
      ]
    },
    {
      "cell_type": "code",
      "source": [
        "list=[\"geeks\",\"for\",\"GEEks\"]\n",
        "print(\"List items\")\n",
        "print(list[0])\n",
        "print(list[1])"
      ],
      "metadata": {
        "colab": {
          "base_uri": "https://localhost:8080/"
        },
        "id": "If6B75jIIhQP",
        "outputId": "e6f6ecc7-b3a1-42f9-fb92-e5d531a3955f"
      },
      "execution_count": 2,
      "outputs": [
        {
          "output_type": "stream",
          "name": "stdout",
          "text": [
            "List items\n",
            "geeks\n",
            "for\n"
          ]
        }
      ]
    },
    {
      "cell_type": "code",
      "source": [
        "#Creating a multi_dimensional list\n",
        "list=[['geeks','for'],['geeks']]\n",
        "print(\"Multidimensional array\")\n",
        "print(list)\n"
      ],
      "metadata": {
        "colab": {
          "base_uri": "https://localhost:8080/"
        },
        "id": "n4olDlJcIjkg",
        "outputId": "06e2f752-3ac7-452f-eb3a-bc0521114b0c"
      },
      "execution_count": 3,
      "outputs": [
        {
          "output_type": "stream",
          "name": "stdout",
          "text": [
            "Multidimensional array\n",
            "[['geeks', 'for'], ['geeks']]\n"
          ]
        }
      ]
    },
    {
      "cell_type": "code",
      "source": [
        "\n",
        "#Activity #1\n",
        "mylist=[]\n",
        "print(\"Enter  a list that is  taken from user 1\")\n",
        "for i in range (5):\n",
        "  val=input(\"Enter a value\")\n",
        "  n=int(val)\n",
        "  mylist.append(n)\n",
        "  #taken list 2\n",
        "mylist2=[]\n",
        "print(\"Enter a list that is taken from list 2\")\n",
        "for i in range (5):\n",
        "    val=input(\"enter a number\")\n",
        "    n=int(val)\n",
        "    mylist2.append(n)\n",
        "list3=mylist+mylist2;\n",
        "print(list3)\n",
        "122"
      ],
      "metadata": {
        "colab": {
          "base_uri": "https://localhost:8080/"
        },
        "id": "fp3oHIw3ItUk",
        "outputId": "495e331a-28fa-475c-dc68-d7cef8dfb0ea"
      },
      "execution_count": 6,
      "outputs": [
        {
          "output_type": "stream",
          "name": "stdout",
          "text": [
            "Enter  a list that is  taken from user 1\n",
            "Enter a value2\n",
            "Enter a value3\n",
            "Enter a value4\n",
            "Enter a value5\n",
            "Enter a value6\n",
            "Enter a list that is taken from list 2\n",
            "enter a number7\n",
            "enter a number8\n",
            "enter a number5\n",
            "enter a number4\n",
            "enter a number3\n",
            "[2, 3, 4, 5, 6, 7, 8, 5, 4, 3]\n"
          ]
        },
        {
          "output_type": "execute_result",
          "data": {
            "text/plain": [
              "1"
            ]
          },
          "metadata": {},
          "execution_count": 6
        }
      ]
    },
    {
      "cell_type": "code",
      "source": [
        "#Activity number# 2\n",
        "list= [1,2,3,4,5,4,5,6,6]\n",
        "print(\"Listing By using LIST\")\n",
        "print(list)\n"
      ],
      "metadata": {
        "colab": {
          "base_uri": "https://localhost:8080/"
        },
        "id": "B4bshBuSIltz",
        "outputId": "832edc10-6956-4240-e194-be1f160a4081"
      },
      "execution_count": 7,
      "outputs": [
        {
          "output_type": "stream",
          "name": "stdout",
          "text": [
            "Listing By using LIST\n",
            "[1, 2, 3, 4, 5, 4, 5, 6, 6]\n"
          ]
        }
      ]
    },
    {
      "cell_type": "code",
      "source": [
        "def isPalindrome(words):\n",
        "  temp=words[::-1]\n",
        "  if temp.capitalize()==words.capitalize():\n",
        "      return True\n",
        "  else:\n",
        "       return False\n",
        "print(isPalindrome(\"Mom\"))\n",
        "            "
      ],
      "metadata": {
        "colab": {
          "base_uri": "https://localhost:8080/"
        },
        "id": "eDDEU1RXI36J",
        "outputId": "ae20b3a3-f1e4-4f42-92c9-8b0f37c9bcd9"
      },
      "execution_count": 8,
      "outputs": [
        {
          "output_type": "stream",
          "name": "stdout",
          "text": [
            "True\n"
          ]
        }
      ]
    },
    {
      "cell_type": "code",
      "source": [
        "A = [[1, 0, 0],\n",
        "    [0, 1, 0],\n",
        "    [0, 0, 1]]\n",
        " \n",
        "# take a 3x4 matrix   \n",
        "B = [[1, 2, 3, ],\n",
        "    [4, 5, 6 ],\n",
        "    [7, 8, 9 ]]\n",
        "     \n",
        "c = [[0, 0, 0, 0],\n",
        "        [0, 0, 0, 0],\n",
        "        [0, 0, 0, 0]]\n",
        " \n",
        "# iterating by row of A\n",
        "for i in range(len(A)):\n",
        " \n",
        "    # iterating by column by B\n",
        "    for j in range(len(B[0])):\n",
        " \n",
        "        # iterating by rows of B\n",
        "        for k in range(len(B)):\n",
        "            c[i][j] += A[i][k] * B[k][j]\n",
        " \n",
        "for r in c:\n",
        "    print(r)"
      ],
      "metadata": {
        "colab": {
          "base_uri": "https://localhost:8080/"
        },
        "id": "1iuA0pOcI-CZ",
        "outputId": "d83b7e1f-782b-4131-e860-6ed96bd637ba"
      },
      "execution_count": 9,
      "outputs": [
        {
          "output_type": "stream",
          "name": "stdout",
          "text": [
            "[1, 2, 3, 0]\n",
            "[4, 5, 6, 0]\n",
            "[7, 8, 9, 0]\n"
          ]
        }
      ]
    },
    {
      "cell_type": "code",
      "source": [
        "\n",
        "#Activity 6\n",
        "sample={(\"AQsa,Insha\"):\"03131512785889\",(\"ayesha\",\"Saba\"):\"03145678738787\",(\"Aunsha\",\"Yusra\"):\"677547638636827\"}\n",
        "firstname=input(\"Enter the first name\")\n",
        "lastname=input(\"enter the last name \")\n",
        "searchtuple=(firstname,lastname)\n",
        "if searchtuple in sample:\n",
        "  print(sample[searchtuple])\n",
        "else:\n",
        "    print(\"name not found\")\n"
      ],
      "metadata": {
        "colab": {
          "base_uri": "https://localhost:8080/"
        },
        "id": "kYGMaJtHJAeq",
        "outputId": "f93fdd97-2120-4160-9df9-cad73758d046"
      },
      "execution_count": 10,
      "outputs": [
        {
          "output_type": "stream",
          "name": "stdout",
          "text": [
            "Enter the first namearad\n",
            "enter the last name bucharest\n",
            "name not found\n"
          ]
        }
      ]
    },
    {
      "cell_type": "code",
      "source": [
        "5\n",
        "#Lab activity 1\n",
        "n=int(input(\"enter a  total number of elements :\"))#3\n",
        "l=[]5\n",
        "for i in range(0,n,1):#0,1,2\n",
        "     \n",
        "      element=input(\"enter a number\")\n",
        "      l.append(element)\n",
        "      print(\"list:\",l)\n",
        "\n",
        "n2=int(input(\"enter a  total number of elements :\"))#3\n",
        "l2=[]\n",
        "for i in range(0,n2,1):#0,1,2\n",
        "     \n",
        "      element=input(\"enter a number\")\n",
        "      l2.append(element)\n",
        "      print(\"list2:\",l2)\n",
        "      meg=l+l2\n",
        "      print(\"merged list is\", meg)\n",
        "      meg.sort()\n",
        "      print(\"sorted list is\",meg)"
      ],
      "metadata": {
        "colab": {
          "base_uri": "https://localhost:8080/"
        },
        "id": "HagV0MqQJDps",
        "outputId": "099ab164-5695-4479-9a77-7a4e16b8ac3e"
      },
      "execution_count": 11,
      "outputs": [
        {
          "output_type": "stream",
          "name": "stdout",
          "text": [
            "enter a  total number of elements :7\n",
            "enter a number8\n",
            "list: ['8']\n",
            "enter a number7\n",
            "list: ['8', '7']\n",
            "enter a number9\n",
            "list: ['8', '7', '9']\n",
            "enter a number6\n",
            "list: ['8', '7', '9', '6']\n",
            "enter a number8\n",
            "list: ['8', '7', '9', '6', '8']\n",
            "enter a number3\n",
            "list: ['8', '7', '9', '6', '8', '3']\n",
            "enter a number4\n",
            "list: ['8', '7', '9', '6', '8', '3', '4']\n",
            "enter a  total number of elements :3\n",
            "enter a number2\n",
            "list2: ['2']\n",
            "merged list is ['8', '7', '9', '6', '8', '3', '4', '2']\n",
            "sorted list is ['2', '3', '4', '6', '7', '8', '8', '9']\n",
            "enter a number1\n",
            "list2: ['2', '1']\n",
            "merged list is ['8', '7', '9', '6', '8', '3', '4', '2', '1']\n",
            "sorted list is ['1', '2', '3', '4', '6', '7', '8', '8', '9']\n",
            "enter a number4\n",
            "list2: ['2', '1', '4']\n",
            "merged list is ['8', '7', '9', '6', '8', '3', '4', '2', '1', '4']\n",
            "sorted list is ['1', '2', '3', '4', '4', '6', '7', '8', '8', '9']\n"
          ]
        }
      ]
    },
    {
      "cell_type": "code",
      "source": [
        "#task 2\n",
        "n=int(input(\"enter a  total number of elements :\"))#3\n",
        "l=[]\n",
        "for i in range(0,n,1):#0,1,2\n",
        "     \n",
        "      element=input(\"enter a number\")\n",
        "      l.append(element)\n",
        "      print(\"list:\",l)\n",
        "\n",
        "n2=int(input(\"enter a  total number of elements :\"))#3\n",
        "l2=[]\n",
        "for i in range(0,n2,1):#0,1,2\n",
        "     \n",
        "      element=input(\"enter a number\")\n",
        "      l2.append(element)\n",
        "      print(\"list2:\",l2)\n",
        "      meg=l+l2\n",
        "      print(\"merged list is\", meg)\n",
        "      meg.sort()\n",
        "      print(\"sorted list is\",meg)\n",
        "          \n",
        "smalest=min(meg)\n",
        "largest=max(meg)\n",
        "print(\"Smallest value is\",smalest)\n",
        "print(\"largest value is\",largest)"
      ],
      "metadata": {
        "colab": {
          "base_uri": "https://localhost:8080/"
        },
        "id": "jdqHuMHFJOVh",
        "outputId": "b805f957-1a2b-4e88-80dd-58bb91f0ae2e"
      },
      "execution_count": 12,
      "outputs": [
        {
          "output_type": "stream",
          "name": "stdout",
          "text": [
            "enter a  total number of elements :5\n",
            "enter a number6\n",
            "list: ['6']\n",
            "enter a number5\n",
            "list: ['6', '5']\n",
            "enter a number5\n",
            "list: ['6', '5', '5']\n",
            "enter a number5\n",
            "list: ['6', '5', '5', '5']\n",
            "enter a number5\n",
            "list: ['6', '5', '5', '5', '5']\n",
            "enter a  total number of elements :5\n",
            "enter a number5\n",
            "list2: ['5']\n",
            "merged list is ['6', '5', '5', '5', '5', '5']\n",
            "sorted list is ['5', '5', '5', '5', '5', '6']\n",
            "enter a number\n",
            "list2: ['5', '']\n",
            "merged list is ['6', '5', '5', '5', '5', '5', '']\n",
            "sorted list is ['', '5', '5', '5', '5', '5', '6']\n",
            "enter a number5\n",
            "list2: ['5', '', '5']\n",
            "merged list is ['6', '5', '5', '5', '5', '5', '', '5']\n",
            "sorted list is ['', '5', '5', '5', '5', '5', '5', '6']\n",
            "enter a number5\n",
            "list2: ['5', '', '5', '5']\n",
            "merged list is ['6', '5', '5', '5', '5', '5', '', '5', '5']\n",
            "sorted list is ['', '5', '5', '5', '5', '5', '5', '5', '6']\n",
            "enter a number2\n",
            "list2: ['5', '', '5', '5', '2']\n",
            "merged list is ['6', '5', '5', '5', '5', '5', '', '5', '5', '2']\n",
            "sorted list is ['', '2', '5', '5', '5', '5', '5', '5', '5', '6']\n",
            "Smallest value is \n",
            "largest value is 6\n"
          ]
        }
      ]
    },
    {
      "cell_type": "code",
      "source": [
        "\n",
        "def perimeter(listing):\n",
        "    leng=len(listing)\n",
        "    perimeter=0;  \n",
        "    for i in range(0,leng-1):\n",
        "        dlist=(((listing[i][0]-listing[i+1][0]**2)+listing[i][1]-listing[i+1][0]**2))**0.5\n",
        "        perimeter=perimeter+dlist\n",
        "    perimeter=perimeter+(((listing[0][0]-listing[leng-1][0]**2)+listing[0][1]-listing[leng-1][1]**2))**0.5\n",
        "  \n",
        "    return perimeter\n",
        "L=[(1,3),(2,7),(3,9),(-1,0)]\n",
        "print(perimeter(L))\n"
      ],
      "metadata": {
        "colab": {
          "base_uri": "https://localhost:8080/"
        },
        "id": "puf6YYurJUj5",
        "outputId": "7e9ae22c-25ba-481b-e3f6-fb681ca71d4f"
      },
      "execution_count": 13,
      "outputs": [
        {
          "output_type": "stream",
          "name": "stdout",
          "text": [
            "(4.894328467737257+5j)\n"
          ]
        }
      ]
    },
    {
      "cell_type": "code",
      "source": [
        "def symmDiff(a,b):\n",
        "  e=set()\n",
        "  for i in a:\n",
        "       if i not in b:\n",
        "            e.add(i)\n",
        "            for i in b:\n",
        "              if i not in a:\n",
        "                e.add(i)\n",
        "set1={1,2,4,5}\n",
        "set2={4,5,7,8,9}\n",
        "print(symmDiff(set1,set2))\n",
        "print(set1.symmetric_difference(set2))\n",
        "print(set2.symmetric_difference(set1))\n",
        "print(set1^set2)\n",
        "print(set2^set1)\n"
      ],
      "metadata": {
        "colab": {
          "base_uri": "https://localhost:8080/"
        },
        "id": "07QdA4YTJXEy",
        "outputId": "1e36b37d-2c32-4a66-f091-47294cc50d21"
      },
      "execution_count": 14,
      "outputs": [
        {
          "output_type": "stream",
          "name": "stdout",
          "text": [
            "None\n",
            "{1, 2, 7, 8, 9}\n",
            "{1, 2, 7, 8, 9}\n",
            "{1, 2, 7, 8, 9}\n",
            "{1, 2, 7, 8, 9}\n"
          ]
        }
      ]
    },
    {
      "cell_type": "code",
      "source": [
        "sample_dict = {\n",
        "    'emp1': {'name': 'aqsa', 'salary': 7500},\n",
        "    'emp2': {'name': 'ayesha', 'salary': 8000},\n",
        "    'emp3': {'name': 'insha', 'salary': 500}\n",
        "}\n",
        "sample_dict['emp3']['salary'] = 8000\n",
        "print(sample_dict['emp3'])"
      ],
      "metadata": {
        "colab": {
          "base_uri": "https://localhost:8080/"
        },
        "id": "5umzS1mUJXGZ",
        "outputId": "5f339425-7670-4181-eaad-8fff95dce1f1"
      },
      "execution_count": 15,
      "outputs": [
        {
          "output_type": "stream",
          "name": "stdout",
          "text": [
            "{'name': 'insha', 'salary': 8000}\n"
          ]
        }
      ]
    },
    {
      "cell_type": "code",
      "source": [
        "if __name__ == '__main__':\n",
        "\n",
        "    birthdays = {\n",
        "        'aqsa': '01/06/2003',\n",
        "        'Haris': '15/oct/2000',\n",
        "        'waduha': '15/10/2007'\n",
        "    }\n",
        "\n",
        "    print('Welcome to the birthday dictionary. We know the birthdays of:')\n",
        "    for name in birthdays:\n",
        "        print(name)\n",
        "\n",
        "    print('Who\\'s birthday do you want to look up?')\n",
        "    name = input()\n",
        "    if name in birthdays:\n",
        "        print('{}\\'s birthday is {}.'.format(name, birthdays[name]))\n",
        "    else:\n",
        "        print('Sadly, we don\\'t have {}\\'s birthday.'.format(name))"
      ],
      "metadata": {
        "colab": {
          "base_uri": "https://localhost:8080/"
        },
        "id": "ToxL1R65Javs",
        "outputId": "bee32d76-55f8-4abe-d386-c27f541e7c44"
      },
      "execution_count": 16,
      "outputs": [
        {
          "output_type": "stream",
          "name": "stdout",
          "text": [
            "Welcome to the birthday dictionary. We know the birthdays of:\n",
            "aqsa\n",
            "Haris\n",
            "waduha\n",
            "Who's birthday do you want to look up?\n",
            "aqsa\n",
            "aqsa's birthday is 01/06/2003.\n"
          ]
        }
      ]
    }
  ]
}