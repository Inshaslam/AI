{
  "nbformat": 4,
  "nbformat_minor": 0,
  "metadata": {
    "colab": {
      "provenance": [],
      "authorship_tag": "ABX9TyNfiXsFgEq5Th4odBV6k+8N",
      "include_colab_link": true
    },
    "kernelspec": {
      "name": "python3",
      "display_name": "Python 3"
    },
    "language_info": {
      "name": "python"
    }
  },
  "cells": [
    {
      "cell_type": "markdown",
      "metadata": {
        "id": "view-in-github",
        "colab_type": "text"
      },
      "source": [
        "<a href=\"https://colab.research.google.com/github/Inshaslam/AI/blob/main/Untitled14.ipynb\" target=\"_parent\"><img src=\"https://colab.research.google.com/assets/colab-badge.svg\" alt=\"Open In Colab\"/></a>"
      ]
    },
    {
      "cell_type": "code",
      "execution_count": null,
      "metadata": {
        "id": "V8vb8jCtLraw"
      },
      "outputs": [],
      "source": [
        "from queue import Queue\n",
        "list_breadth={\n",
        "    \"A\":[\"C\",\"D\"],\n",
        "    \"B\":[\"E\",\"F\"],\n",
        "    \"C\":[\"B\"],\n",
        "    \"D\":[\"E\",\"D\",\"B\"],\n",
        "    \"E\":[\"A\",\"C\",\"F\"],\n",
        "    \"F\":[\"H\",\"B\",\"D\"],\n",
        "    \"G\":[\"E\",\"F\"],\n",
        "    \"H\":[\"A\",\"G\"]\n",
        "}\n",
        "#initalizataion\n",
        "visted={}\n",
        "level={}   #dic to store values\n",
        "parent={}   # to start with first node\n",
        "breadth_ouutput=[] # to store outputs of the breadth_first search\n",
        "queue=Queue()\n",
        "for node in list_breadth.keys():\n",
        "    visted[node]=False\n",
        "    parent[node]=None\n",
        "    level[node]=-1\n",
        "    print(visted)\n",
        "    print(parent)\n",
        "    print(level)\n",
        "s=\"B\"\n",
        "visted[s]=True\n",
        "level=0\n",
        "queue.put(s)\n",
        "while not queue.empty():\n",
        "    u=queue.get()\n",
        "    breadth_ouutput.append(u)\n",
        "\n",
        "    for v in list_breadth[u]:\n",
        "        if not visted [v]:\n",
        "           visted[v] = True\n",
        "           parent[v] = u\n",
        "       # level[v] = level[u]+1\n",
        "        queue.put(v) \n",
        "print(breadth_ouutput)\n",
        "#Shotest distance from all node\n",
        "print(level)\n",
        "#path from node\n",
        "v=\"B\"\n",
        "path=[]\n",
        "while v is not None:\n",
        "    path.append[v]\n",
        "    v=parent[v]\n",
        "path.reverse()\n",
        "print(path)\n"
      ]
    }
  ]
}