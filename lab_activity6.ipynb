{
  "nbformat": 4,
  "nbformat_minor": 0,
  "metadata": {
    "colab": {
      "provenance": [],
      "collapsed_sections": [],
      "authorship_tag": "ABX9TyOznhUYcp/8vgNylCDVyLIi",
      "include_colab_link": true
    },
    "kernelspec": {
      "name": "python3",
      "display_name": "Python 3"
    },
    "language_info": {
      "name": "python"
    }
  },
  "cells": [
    {
      "cell_type": "markdown",
      "metadata": {
        "id": "view-in-github",
        "colab_type": "text"
      },
      "source": [
        "<a href=\"https://colab.research.google.com/github/Inshaslam/AI/blob/main/lab_activity6.ipynb\" target=\"_parent\"><img src=\"https://colab.research.google.com/assets/colab-badge.svg\" alt=\"Open In Colab\"/></a>"
      ]
    },
    {
      "cell_type": "code",
      "execution_count": 2,
      "metadata": {
        "colab": {
          "base_uri": "https://localhost:8080/",
          "height": 135
        },
        "id": "-FAlonn3-J9M",
        "outputId": "ea5a847c-f820-4892-c5e7-896d8b78e9de"
      },
      "outputs": [
        {
          "output_type": "error",
          "ename": "IndentationError",
          "evalue": "ignored",
          "traceback": [
            "\u001b[0;36m  File \u001b[0;32m\"<tokenize>\"\u001b[0;36m, line \u001b[0;32m38\u001b[0m\n\u001b[0;31m    return actionSequence(graph,initialstate,goalState)\u001b[0m\n\u001b[0m    ^\u001b[0m\n\u001b[0;31mIndentationError\u001b[0m\u001b[0;31m:\u001b[0m unindent does not match any outer indentation level\n"
          ]
        }
      ],
      "source": [
        "\n",
        "import math\n",
        "def findmin(forentier):\n",
        "          minV=math.inf\n",
        "          node=''\n",
        "          for i in forentier:\n",
        "              if minV>forentier[i][1]:\n",
        "                   minV=forentier[i][1]\n",
        "                   node=i\n",
        "          return node\n",
        "def actionSequence(graph,initialState,goalState):\n",
        "    solution=[goalState]\n",
        "    currentParent=graph[goalState.parent]\n",
        "    solution.reverse()\n",
        "    return solution\n",
        "class Node:\n",
        "              def ___init___(self,state,parent,action,totalcost): \n",
        "                             self.state=state\n",
        "                             self.parent=parent\n",
        "                             self.action=action\n",
        "                             self.totalcost=totalcost\n",
        "def UCS():\n",
        "          initialState='C'\n",
        "          goalState='B'\n",
        "          graph={'A':Node('A',None,['B','E','C'],None),\n",
        "        'B':Node('B',None,['D','E','A'],None), \n",
        "        'C':Node('C',None,['A','F','G'],None),\n",
        "        'D':Node('D',None,['B','E'],None),\n",
        "        'E':Node('E',None,['A','B','D'],None),\n",
        "        'F':Node('F',None,['C'],None),\n",
        "        'G':Node('G',None,['C'],None)}\n",
        "forentier=dict()\n",
        "forentier[initialState]=(None,0)\n",
        "explored=[]\n",
        "while len(forentier)!=0:\n",
        "    currentNode=findMin(forentier)\n",
        "    del forentier[currentNode]\n",
        "    if graph[currentNode].state==goalState:\n",
        "       return actionSequence(graph,initialstate,goalState)\n",
        "explored.append(currentNode)\n",
        "for child in       graph[currentNode].actions:\n",
        "              currentCost=child[1] + graph[currentNode].totalcost\n",
        "              if child[0] not in forentier and child[0] not in explored:\n",
        "                   graph[child[0]].parent=currentNode\n",
        "                   graph[child[0]].totalcost=cuurrentcost\n",
        "forentier[child[0]]=(graph[child[0]].parent,graph,[child[0]].totalcost)\n",
        "                      elif child[0] in forentier:\n",
        "              if forentier[child[0]][1] < currentcost:\n",
        "                  graph[child[0]].parent=forentier[child[0]][0]\n",
        "                  graph[child[0]].totalcost=forentier[child[0]][1]\n",
        "else:\n",
        " forentier[child[0]]=(currentNode,currentcost)\n",
        "graph[child[0]].parent=forentier[child[0]][0]\n",
        "graph[child[0]].totalcost=forentier[child[0]][1]\n",
        "\n",
        "\n",
        "            "
      ]
    }
  ]
}