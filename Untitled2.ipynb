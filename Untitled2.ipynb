{
  "nbformat": 4,
  "nbformat_minor": 0,
  "metadata": {
    "colab": {
      "provenance": [],
      "authorship_tag": "ABX9TyP3/JImP5cfeNgEGoWLgIR4",
      "include_colab_link": true
    },
    "kernelspec": {
      "name": "python3",
      "display_name": "Python 3"
    },
    "language_info": {
      "name": "python"
    }
  },
  "cells": [
    {
      "cell_type": "markdown",
      "metadata": {
        "id": "view-in-github",
        "colab_type": "text"
      },
      "source": [
        "<a href=\"https://colab.research.google.com/github/Inshaslam/AI/blob/main/Untitled2.ipynb\" target=\"_parent\"><img src=\"https://colab.research.google.com/assets/colab-badge.svg\" alt=\"Open In Colab\"/></a>"
      ]
    },
    {
      "cell_type": "code",
      "execution_count": 1,
      "metadata": {
        "colab": {
          "base_uri": "https://localhost:8080/"
        },
        "id": "_9Nh1UumndOZ",
        "outputId": "c367b539-5f22-474f-f588-d0e73912ffea"
      },
      "outputs": [
        {
          "output_type": "stream",
          "name": "stdout",
          "text": [
            "Following is the Breadth-First Search\n",
            "5 3 7 2 4 8 "
          ]
        }
      ],
      "source": [
        "graph = {\n",
        "  '5' : ['3','7'],\n",
        "  '3' : ['2', '4'],\n",
        "  '7' : ['8'],\n",
        "  '2' : [],\n",
        "  '4' : ['8'],\n",
        "  '8' : []\n",
        "}\n",
        "\n",
        "visited = [] # List for visited nodes.\n",
        "queue = []     #Initialize a queue\n",
        "\n",
        "def bfs(visited, graph, node): #function for BFS\n",
        "  visited.append(node)\n",
        "  queue.append(node)\n",
        "\n",
        "  while queue:          # Creating loop to visit each node\n",
        "    m = queue.pop(0) \n",
        "    print (m, end = \" \") \n",
        "\n",
        "    for neighbour in graph[m]:\n",
        "      if neighbour not in visited:\n",
        "        visited.append(neighbour)\n",
        "        queue.append(neighbour)\n",
        "\n",
        "# Driver Code\n",
        "print(\"Following is the Breadth-First Search\")\n",
        "bfs(visited, graph, '5')    # function calling"
      ]
    },
    {
      "cell_type": "code",
      "source": [
        "# graph is in adjacent list representation\n",
        "graph = {\n",
        "        'arad': ['sibiu', 'zerind', 'timisoara'],\n",
        "        'sibiu': ['oradea', 'fagaras', 'rimnicu'],\n",
        "        'zerind': ['arad', 'oradea'],\n",
        "        'timisoara': ['arad', 'lugoj'],\n",
        "        'oradea': ['zerind', 'sibiu'],\n",
        "        'fagaras': ['sibiu', 'bucharest']\n",
        "        }\n",
        "\n",
        "def bfs(graph, start, end):\n",
        "    # maintain a queue of paths\n",
        "    queue = []\n",
        "    # push the first path into the queue\n",
        "    queue.append([start])\n",
        "    while queue:\n",
        "        # get the first path from the queue\n",
        "        path = queue.pop(0)\n",
        "        # get the last node from the path\n",
        "        node = path[-1]\n",
        "        # path found\n",
        "        if node == end:\n",
        "            return path\n",
        "        # enumerate all adjacent nodes, construct a new path and push it into the queue\n",
        "        for adjacent in graph.get(node, []):\n",
        "            new_path = list(path)\n",
        "            new_path.append(adjacent)\n",
        "            queue.append(new_path)"
      ],
      "metadata": {
        "id": "QjGm790zoTk2"
      },
      "execution_count": 3,
      "outputs": []
    },
    {
      "cell_type": "code",
      "source": [
        "import sys\n",
        " \n",
        "# User defined Pair class\n",
        "class Pair:\n",
        "    def __init__(self, x, y):\n",
        "        self.first = x\n",
        "        self.second = y\n",
        " \n",
        "# Check if it is possible to go to (x, y) from the current\n",
        "# position. The function returns false if the cell has\n",
        "# value 0 or already visited\n",
        "def isSafe(mat, visited, x, y):\n",
        "    return (x >= 0 and x < len(mat) and y >= 0 and y < len(mat[0]) and mat[x][y] == 1 and (not visited[x][y]))\n",
        " \n",
        "def findShortestPath(mat, visited, i, j, x, y, min_dist, dist):\n",
        "    if (i == x and j == y):\n",
        "        min_dist = min(dist, min_dist)\n",
        "        return min_dist\n",
        " \n",
        "    # set (i, j) cell as visited\n",
        "    visited[i][j] = True\n",
        "     \n",
        "    # go to the bottom cell\n",
        "    if (isSafe(mat, visited, i + 1, j)):\n",
        "        min_dist = findShortestPath(\n",
        "            mat, visited, i + 1, j, x, y, min_dist, dist + 1)\n",
        " \n",
        "    # go to the right cell\n",
        "    if (isSafe(mat, visited, i, j + 1)):\n",
        "        min_dist = findShortestPath(\n",
        "            mat, visited, i, j + 1, x, y, min_dist, dist + 1)\n",
        " \n",
        "    # go to the top cell\n",
        "    if (isSafe(mat, visited, i - 1, j)):\n",
        "        min_dist = findShortestPath(\n",
        "            mat, visited, i - 1, j, x, y, min_dist, dist + 1)\n",
        " \n",
        "    # go to the left cell\n",
        "    if (isSafe(mat, visited, i, j - 1)):\n",
        "        min_dist = findShortestPath(\n",
        "            mat, visited, i, j - 1, x, y, min_dist, dist + 1)\n",
        " \n",
        "    # backtrack: remove (i, j) from the visited matrix\n",
        "    visited[i][j] = False\n",
        "    return min_dist\n",
        " \n",
        "# Wrapper over findShortestPath() function\n",
        "def findShortestPathLength(mat, src, dest):\n",
        "    if (len(mat) == 0 or mat[src.first][src.second] == 0\n",
        "            or mat[dest.first][dest.second] == 0):\n",
        "        return -1\n",
        " \n",
        "    row = len(mat)\n",
        "    col = len(mat[0])\n",
        " \n",
        "    # construct an `M × N` matrix to keep track of visited\n",
        "    # cells\n",
        "    visited = []\n",
        "    for i in range(row):\n",
        "        visited.append([None for _ in range(col)])\n",
        " \n",
        "    dist = sys.maxsize\n",
        "    dist = findShortestPath(mat, visited, src.first,\n",
        "                            src.second, dest.first, dest.second, dist, 0)\n",
        " \n",
        "    if (dist != sys.maxsize):\n",
        "        return dist\n",
        "    return -1\n",
        " \n",
        "# Driver code\n",
        "mat = [[1, 0, 1, 1, 1, 1, 0, 1, 1, 1],\n",
        "       [1, 0, 1, 0, 1, 1, 1, 0, 1, 1],\n",
        "       [1, 1, 1, 0, 1, 1, 0, 1, 0, 1],\n",
        "       [0, 0, 0, 0, 1, 0, 0, 0, 0, 1],\n",
        "       [1, 1, 1, 0, 1, 1, 1, 0, 1, 0],\n",
        "       [1, 0, 1, 1, 1, 1, 0, 1, 0, 0],\n",
        "       [1, 0, 0, 0, 0, 0, 0, 0, 0, 1],\n",
        "       [1, 0, 1, 1, 1, 1, 0, 1, 1, 1],\n",
        "       [1, 1, 0, 0, 0, 0, 1, 0, 0, 1]\n",
        "       ]\n",
        " \n",
        "src = Pair(0, 0)\n",
        "dest = Pair(3, 4)\n",
        "dist = findShortestPathLength(mat, src, dest)\n",
        "if (dist != -1):\n",
        "    print(\"Shortest Path is\", dist)\n",
        " \n",
        "else:\n",
        "    print(\"Shortest Path doesn't exist\")"
      ],
      "metadata": {
        "colab": {
          "base_uri": "https://localhost:8080/"
        },
        "id": "BiJJ2rp1qiyN",
        "outputId": "a96d9066-3e6a-4bdc-82b5-065f9963139a"
      },
      "execution_count": 4,
      "outputs": [
        {
          "output_type": "stream",
          "name": "stdout",
          "text": [
            "Shortest Path is 11\n"
          ]
        }
      ]
    }
  ]
}