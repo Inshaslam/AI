{
  "nbformat": 4,
  "nbformat_minor": 0,
  "metadata": {
    "colab": {
      "provenance": [],
      "collapsed_sections": [],
      "authorship_tag": "ABX9TyPvsuWy93P0i9L5Ek/w3d0R",
      "include_colab_link": true
    },
    "kernelspec": {
      "name": "python3",
      "display_name": "Python 3"
    },
    "language_info": {
      "name": "python"
    }
  },
  "cells": [
    {
      "cell_type": "markdown",
      "metadata": {
        "id": "view-in-github",
        "colab_type": "text"
      },
      "source": [
        "<a href=\"https://colab.research.google.com/github/Inshaslam/AI/blob/main/Untitled0.ipynb\" target=\"_parent\"><img src=\"https://colab.research.google.com/assets/colab-badge.svg\" alt=\"Open In Colab\"/></a>"
      ]
    },
    {
      "cell_type": "code",
      "execution_count": 13,
      "metadata": {
        "colab": {
          "base_uri": "https://localhost:8080/"
        },
        "id": "vgMRgEfY5Xny",
        "outputId": "30111c53-7902-4e2d-c646-16c9fdc3fb84"
      },
      "outputs": [
        {
          "output_type": "stream",
          "name": "stdout",
          "text": [
            "Enter a number2\n",
            "the given number is an even number\n"
          ]
        }
      ],
      "source": [
        "n=input(\"Enter a number\")\n",
        "if int (n)%2==0:\n",
        "  print(\"the given number is an even number\")\n",
        "else:\n",
        "  print(\"the given number is an odd number\")"
      ]
    },
    {
      "cell_type": "code",
      "source": [
        "sum=0\n",
        "s= input(\"enter an integer value\")\n",
        "n= int(s)\n",
        "while n!=0:\n",
        "  sum=sum+n\n",
        "  s= input(\"enter an integer value\")\n",
        "  n=int(s)\n",
        "  print(\"sum of given value is\",sum)\n",
        "\n"
      ],
      "metadata": {
        "colab": {
          "base_uri": "https://localhost:8080/"
        },
        "id": "IrQdsDzs8F2C",
        "outputId": "5f7e39db-2326-4d01-a316-e57a336a8dc9"
      },
      "execution_count": 3,
      "outputs": [
        {
          "output_type": "stream",
          "name": "stdout",
          "text": [
            "enter an integer value10\n",
            "enter an integer value521\n",
            "sum of given value is 10\n",
            "enter an integer value5\n",
            "sum of given value is 531\n",
            "enter an integer value22\n",
            "sum of given value is 536\n",
            "enter an integer value0\n",
            "sum of given value is 558\n"
          ]
        }
      ]
    },
    {
      "cell_type": "code",
      "source": [
        "isPrime=True\n",
        "i=2\n",
        "n=int(input(\"enter a number\"))\n",
        "while i<n:\n",
        "     remainder=n%i\n",
        "     if remainder==0:\n",
        "        isPrime=False\n",
        "        break\n",
        "     else:\n",
        "         i=i+1\n",
        "if isPrime:\n",
        "       print(\"number is prime\")\n",
        "else:\n",
        "    print(\"number is not prime\")"
      ],
      "metadata": {
        "colab": {
          "base_uri": "https://localhost:8080/"
        },
        "id": "IW2EQvLkhaZ5",
        "outputId": "43cbd077-7ff9-4a03-b395-b63a2c5fe3e8"
      },
      "execution_count": 34,
      "outputs": [
        {
          "output_type": "stream",
          "name": "stdout",
          "text": [
            "enter a number22\n",
            "number is not prime\n"
          ]
        }
      ]
    },
    {
      "cell_type": "code",
      "source": [
        "summ=0\n",
        "i=0\n",
        "while i<=4:\n",
        "  s=input(\"enter a number\")\n",
        "  n=int(s)\n",
        "  summ=summ+n\n",
        "  i=i+1\n",
        "  print(\"sum is\",summ)\n",
        "  "
      ],
      "metadata": {
        "colab": {
          "base_uri": "https://localhost:8080/"
        },
        "id": "Jiumqy8XkYY1",
        "outputId": "d7afa3e6-5717-40d0-e936-f28c304e8040"
      },
      "execution_count": 42,
      "outputs": [
        {
          "output_type": "stream",
          "name": "stdout",
          "text": [
            "enter a number1\n",
            "sum is 1\n",
            "enter a number2\n",
            "sum is 3\n",
            "enter a number3\n",
            "sum is 6\n",
            "enter a number4\n",
            "sum is 10\n",
            "enter a number5\n",
            "sum is 15\n"
          ]
        }
      ]
    },
    {
      "cell_type": "code",
      "source": [
        "summation=0\n",
        "i=1\n",
        "while i<=10:\n",
        "  summation=summation+i\n",
        "  i=i+1\n",
        "  print(\"sum is\",summation)\n",
        "  "
      ],
      "metadata": {
        "colab": {
          "base_uri": "https://localhost:8080/"
        },
        "id": "nVLb94vplbuA",
        "outputId": "8b3b1c85-6f86-4674-bee7-ac8ea5efd031"
      },
      "execution_count": 43,
      "outputs": [
        {
          "output_type": "stream",
          "name": "stdout",
          "text": [
            "sum is 1\n",
            "sum is 3\n",
            "sum is 6\n",
            "sum is 10\n",
            "sum is 15\n",
            "sum is 21\n",
            "sum is 28\n",
            "sum is 36\n",
            "sum is 45\n",
            "sum is 55\n"
          ]
        }
      ]
    },
    {
      "cell_type": "code",
      "source": [
        "name=input(\"what is your name?\")\n",
        "print(\"hello\"+name)\n",
        "job= input(\"what is your job?\")\n",
        "print(\"my job is\"+job)\n",
        "num=input(\"give me a number\")\n",
        "print(\"you said:\"+str(num))"
      ],
      "metadata": {
        "colab": {
          "base_uri": "https://localhost:8080/"
        },
        "id": "hvCOAtVvl-Jl",
        "outputId": "43c89587-98f3-429d-961f-3d36483e23be"
      },
      "execution_count": 44,
      "outputs": [
        {
          "output_type": "stream",
          "name": "stdout",
          "text": [
            "what is your name?insha\n",
            "helloinsha\n",
            "what is your job?student\n",
            "my job isstudent\n",
            "give me a number2\n",
            "you said:2\n"
          ]
        }
      ]
    }
  ]
}