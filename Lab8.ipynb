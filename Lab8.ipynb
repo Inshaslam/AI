{
  "nbformat": 4,
  "nbformat_minor": 0,
  "metadata": {
    "colab": {
      "provenance": [],
      "authorship_tag": "ABX9TyPJ1ro7idZsQklEDWAvKxO4",
      "include_colab_link": true
    },
    "kernelspec": {
      "name": "python3",
      "display_name": "Python 3"
    },
    "language_info": {
      "name": "python"
    }
  },
  "cells": [
    {
      "cell_type": "markdown",
      "metadata": {
        "id": "view-in-github",
        "colab_type": "text"
      },
      "source": [
        "<a href=\"https://colab.research.google.com/github/Inshaslam/AI/blob/main/Lab8.ipynb\" target=\"_parent\"><img src=\"https://colab.research.google.com/assets/colab-badge.svg\" alt=\"Open In Colab\"/></a>"
      ]
    },
    {
      "cell_type": "code",
      "execution_count": 1,
      "metadata": {
        "colab": {
          "base_uri": "https://localhost:8080/"
        },
        "id": "iVnnQQnzJ1-Z",
        "outputId": "21cfc258-80af-45da-a036-428baaeac2f5"
      },
      "outputs": [
        {
          "output_type": "stream",
          "name": "stdout",
          "text": [
            "['F', 'I', 'K']\n"
          ]
        }
      ],
      "source": [
        "# Hill Climbing Search\n",
        "\n",
        "import math\n",
        "class Node:\n",
        "    def __init__(self, state, parent, actions, totalCost, heuristic):\n",
        "        self.state = state\n",
        "        self.parent = parent\n",
        "        self.actions = actions\n",
        "        self.totalCost = totalCost\n",
        "        self.heuristic = heuristic\n",
        "def HCS():\n",
        "    graph = {\n",
        "       'A': Node('A', None, [], 0, (11, 2)),\n",
        "       #'FF': Node('FF',None,['E',1],0,(11,2)),\n",
        "        'B': Node('B',None,['E',1],0,(11,2)),##Initial state\n",
        "        'B': Node('B', None, [('C', 1),('F',1)], 0, (9, 2)),\n",
        "        'C': Node('C', None, [('B', 1), ('D', 1),('F',1)], 0, (8, 2)),\n",
        "        'D': Node('D', None, [('C', 1)], 0, (7, 2)),\n",
        "        'E': Node('E', None, [], 0, (3, 2)),\n",
        "        'F': Node('F', None, [('C', 1), ('I', 1),('B',1)], 0, (8, 3)),\n",
        "        'G': Node('G', None, [('H', 1)], 0, (10, 4)),\n",
        "        'H': Node('H', None, [('G', 1), ('I', 1),('K',1)], 0, (9, 4)),\n",
        "        'I': Node('I', None, [('K', 1), ('H', 1),('L',1)], 0, (8, 4)),\n",
        "        'J': Node('J', None, ['G',1], 0, (11, 5)),\n",
        "        'K': Node('K', None, [('I', 1), ('L', 1),('O',1),('H',1)], 0, (8, 5)),\n",
        "        'L': Node('L', None, [('M', 1), ('O', 1),('K',1),('P',0),('I',0)], 0, (7, 5)),\n",
        "        'M': Node('M', None, [('L', 1), ('P', 1),('Q',1) ], 0, (6, 5)),\n",
        "        'N': Node('N', None, [('T', 1),('U',1)], 0, (7, 9)),\n",
        "        'O': Node('O', None, [('P', 1), ('L', 1),('K',1)], 0, (7, 5)),\n",
        "        'P': Node('P', None, [('O', 1), ('Q', 1),('M',1),('L',1)], 0, (6, 6)),\n",
        "        'Q': Node('Q', None, [('P', 1), ('M', 1)], 0, (6, 5)),\n",
        "        'R': Node('R', None, [('S', 1)], 0, (6, 3)),\n",
        "        'S': Node('S', None, [('R', 1)], 0, (6, 2)),\n",
        "        'T': Node('T', None, [('N', 1), ('U', 1), ('V', 1)], 0, (9, 7)),\n",
        "        'U': Node('U', None, [('T', 1)], 0, (8, 7)),\n",
        "        'V': Node('V', None, [('T', 1), ('U', 1)], 0, (9, 8)),\n",
        "        'W': Node('W', None, [('AB', 1)], 0, (8, 6)),\n",
        "        'X': Node('X', None, [('Y',1),('AB', 2),('AC',2),], 0, (8, 4)),\n",
        "        'Y': Node('Y', None, [('X', 1), ('Z', 1),('AD',2),('AC',2)], 0, (8, 3)),\n",
        "        'Z': Node('Z', None, [('Y',1),('AD', 2),], 0, (8, 4)),\n",
        "        'AA': Node('AA', None,[('AE', 2)], 0, (10, 9)),\n",
        "        'AB': Node('AB', None, [('W',1),('AC', 2),('AF',2),('AG',2)], 0, (9, 5)),\n",
        "        'AC': Node('AC', None, [('X',1),('AB', 2),('AG',2)], 0, (9, 4)),\n",
        "        'AD': Node('AD', None, [('Y',1),('Z',1)], 0, (8, 4)),\n",
        "        'AE': Node('AE', None, [('AE', 2)], 0, (10, 9)),\n",
        "        'AF': Node('AF', None, [('AB', 2),('AG',2),], 0, (10, 5)),\n",
        "        'AG': Node('AG', None, [('AC',1),('AF', 2),('AB',2),], 0, (10, 4)),\n",
        "        'AH': Node('AH', None, [], 0, (11, 7)),\n",
        "        'AI': Node('X', None, [], 0, (11, 11))    ####Final state \n",
        "        }\n",
        "\n",
        "    initialState = 'B'\n",
        "    goalState = 'AI'\n",
        "    parentNode = initialState\n",
        "    parentCost = math.sqrt((graph[goalState].heuristic[0] - \\\n",
        "                            graph[initialState].heuristic[0]) ** 2 + \\\n",
        "                           (graph[goalState].heuristic[1] - \\\n",
        "                            graph[initialState].heuristic[1]) ** 2)\n",
        "    explored = []\n",
        "    solution = []\n",
        "    minChildCost = parentCost - 1\n",
        "\n",
        "    while parentNode != goalState:\n",
        "        bestNode = parentNode\n",
        "        minChildCost = parentCost\n",
        "        explored.append(parentNode)\n",
        "\n",
        "        for child in graph[parentNode].actions:\n",
        "            if child[0] not in explored:\n",
        "                childCost = math.sqrt((graph[goalState].heuristic[0] \\\n",
        "                                       - graph[child[0]].heuristic[0]) ** 2 \\\n",
        "                                      + (graph[goalState].heuristic[1] \\\n",
        "                                         - graph[child[0]].heuristic[1]) ** 2)\n",
        "                if childCost < minChildCost:\n",
        "                    bestNode = child[0]\n",
        "                    minChildCost = childCost\n",
        "        if bestNode == parentNode:\n",
        "            break\n",
        "        else:\n",
        "            parentNode = bestNode\n",
        "            parentCost = minChildCost\n",
        "            solution.append(parentNode)\n",
        "    return solution\n",
        "\n",
        "\n",
        "solution = HCS()\n",
        "print(solution)\n",
        "     "
      ]
    },
    {
      "cell_type": "code",
      "source": [],
      "metadata": {
        "id": "OnSKzgnWKDSy"
      },
      "execution_count": null,
      "outputs": []
    }
  ]
}